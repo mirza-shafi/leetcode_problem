{
 "cells": [
  {
   "cell_type": "markdown",
   "id": "93bcf886",
   "metadata": {},
   "source": [
    "Countains Duplicate"
   ]
  },
  {
   "cell_type": "code",
   "execution_count": 1,
   "id": "ce9227d2",
   "metadata": {},
   "outputs": [
    {
     "name": "stdout",
     "output_type": "stream",
     "text": [
      "True\n"
     ]
    }
   ],
   "source": [
    "from typing import List\n",
    "\n",
    "class Solution:\n",
    "    def hasDuplicate(self, nums: List[int]) -> bool:\n",
    "        for i in range(len(nums)):\n",
    "            count = 0\n",
    "            for j in range(len(nums)):\n",
    "                if nums[i] == nums[j]:\n",
    "                    count += 1\n",
    "            if count > 1:\n",
    "                return True\n",
    "        return False\n",
    "\n",
    "nums = [1, 2, 3, 3]\n",
    "sol = Solution()\n",
    "x = sol.hasDuplicate(nums)\n",
    "print(x) \n"
   ]
  },
  {
   "cell_type": "code",
   "execution_count": 93,
   "id": "53da7a47",
   "metadata": {},
   "outputs": [
    {
     "name": "stdout",
     "output_type": "stream",
     "text": [
      "True\n"
     ]
    }
   ],
   "source": [
    "nums = [1,2,3,4,5,1]\n",
    "nums.sort()\n",
    "flag = True\n",
    "for i in range(len(nums)-1):\n",
    "    if nums[i] == nums[i+1]:\n",
    "        flag = True\n",
    "        break\n",
    "    else:\n",
    "        flag = False\n",
    "print(flag)"
   ]
  },
  {
   "cell_type": "markdown",
   "id": "7441acbe",
   "metadata": {},
   "source": [
    "Valid Angram Task 02"
   ]
  },
  {
   "cell_type": "code",
   "execution_count": 28,
   "id": "ececeab5",
   "metadata": {},
   "outputs": [
    {
     "name": "stdout",
     "output_type": "stream",
     "text": [
      "False\n"
     ]
    }
   ],
   "source": [
    "class Solution:\n",
    "    def isAnagram(self, s: str, t: str):\n",
    "  \n",
    "        for i in range(len(s)):\n",
    "            count1 = 0\n",
    "            count2 = 0\n",
    "            l = []\n",
    "            for j in range(len(s)):\n",
    "                if s[i] == s[j]:\n",
    "                    count1+=1\n",
    "            for k in range(len(t)):\n",
    "                if s[i] in t:\n",
    "                    for l in range(len(t)):\n",
    "                        if t[k] == t[l]:\n",
    "                            count2+=1\n",
    "            if count1 == count2:\n",
    "                return True\n",
    "            else:\n",
    "                return False\n",
    "s = \"racecar\"\n",
    "t = \"carrace\"\n",
    "sol = Solution()\n",
    "x = sol.isAnagram(s,t)\n",
    "print(x)\n"
   ]
  },
  {
   "cell_type": "code",
   "execution_count": null,
   "id": "75bb8d76",
   "metadata": {},
   "outputs": [
    {
     "name": "stdout",
     "output_type": "stream",
     "text": [
      "False\n"
     ]
    }
   ],
   "source": [
    "class Solution:\n",
    "    def isAnagram(self, s: str, t: str) -> bool:\n",
    "        return sorted(s) == sorted(t)\n",
    "\n",
    "s = \"racecar\"\n",
    "t = \"carrace\"\n",
    "sol = Solution()\n",
    "print(sol.isAnagram(s, t))   # True\n"
   ]
  },
  {
   "cell_type": "markdown",
   "id": "02bdb3cf",
   "metadata": {},
   "source": [
    "Two sum sol 03"
   ]
  },
  {
   "cell_type": "code",
   "execution_count": 93,
   "id": "6c664613",
   "metadata": {},
   "outputs": [
    {
     "name": "stdout",
     "output_type": "stream",
     "text": [
      "[0, 1]\n"
     ]
    }
   ],
   "source": [
    "class Solution:\n",
    "    def twoSum(self, nums: List[int], target: int) -> List[int]:\n",
    "        seen = []\n",
    "        for i in range(len(nums)):\n",
    "            x = target - nums[i]\n",
    "            if x in seen:\n",
    "                return  [nums.index(x), i]\n",
    "            seen.append(nums[i])\n",
    "nums = [5,5]\n",
    "target = 10\n",
    "sol = Solution()\n",
    "print(sol.twoSum(nums,target))"
   ]
  },
  {
   "cell_type": "code",
   "execution_count": 17,
   "id": "1771da79",
   "metadata": {},
   "outputs": [
    {
     "name": "stdout",
     "output_type": "stream",
     "text": [
      "[['act'], ['pots'], ['tops'], ['cat'], ['stop']]\n"
     ]
    }
   ],
   "source": [
    "from typing import List\n",
    "class Solution:\n",
    "    def groupAnagrams(self, strs: List[str]) -> List[List[str]]:\n",
    "        lst = []\n",
    "        for ch in range(len(strs)-1):\n",
    "            if sorted(strs[ch]) in sorted(lst):\n",
    "                lst.append([strs[ch],strs[ch+1]])\n",
    "            else:\n",
    "                lst.append([strs[ch]])\n",
    "        return lst        \n",
    "        \n",
    "strs = [\"act\",\"pots\",\"tops\",\"cat\",\"stop\",\"hat\"]\n",
    "sol = Solution()\n",
    "print(sol.groupAnagrams(strs))"
   ]
  },
  {
   "cell_type": "code",
   "execution_count": 27,
   "id": "6d9c3966",
   "metadata": {},
   "outputs": [
    {
     "ename": "IndexError",
     "evalue": "list index out of range",
     "output_type": "error",
     "traceback": [
      "\u001b[0;31m---------------------------------------------------------------------------\u001b[0m",
      "\u001b[0;31mIndexError\u001b[0m                                Traceback (most recent call last)",
      "Input \u001b[0;32mIn [27]\u001b[0m, in \u001b[0;36m<cell line: 14>\u001b[0;34m()\u001b[0m\n\u001b[1;32m     12\u001b[0m strs \u001b[38;5;241m=\u001b[39m [\u001b[38;5;124m\"\u001b[39m\u001b[38;5;124mact\u001b[39m\u001b[38;5;124m\"\u001b[39m,\u001b[38;5;124m\"\u001b[39m\u001b[38;5;124mpots\u001b[39m\u001b[38;5;124m\"\u001b[39m,\u001b[38;5;124m\"\u001b[39m\u001b[38;5;124mtops\u001b[39m\u001b[38;5;124m\"\u001b[39m,\u001b[38;5;124m\"\u001b[39m\u001b[38;5;124mcat\u001b[39m\u001b[38;5;124m\"\u001b[39m,\u001b[38;5;124m\"\u001b[39m\u001b[38;5;124mstop\u001b[39m\u001b[38;5;124m\"\u001b[39m,\u001b[38;5;124m\"\u001b[39m\u001b[38;5;124mhat\u001b[39m\u001b[38;5;124m\"\u001b[39m]\n\u001b[1;32m     13\u001b[0m sol \u001b[38;5;241m=\u001b[39m Solution()\n\u001b[0;32m---> 14\u001b[0m \u001b[38;5;28mprint\u001b[39m(\u001b[43msol\u001b[49m\u001b[38;5;241;43m.\u001b[39;49m\u001b[43mgroupAnagrams\u001b[49m\u001b[43m(\u001b[49m\u001b[43mstrs\u001b[49m\u001b[43m)\u001b[49m)\n",
      "Input \u001b[0;32mIn [27]\u001b[0m, in \u001b[0;36mSolution.groupAnagrams\u001b[0;34m(self, strs)\u001b[0m\n\u001b[1;32m      7\u001b[0m         lst\u001b[38;5;241m.\u001b[39mappend([strs[ch],strs[ch\u001b[38;5;241m+\u001b[39m\u001b[38;5;241m1\u001b[39m]])\n\u001b[1;32m      8\u001b[0m     \u001b[38;5;28;01melse\u001b[39;00m:\n\u001b[0;32m----> 9\u001b[0m         \u001b[43mlst\u001b[49m\u001b[43m[\u001b[49m\u001b[43mch\u001b[49m\u001b[43m]\u001b[49m\u001b[38;5;241m.\u001b[39mappend([strs[ch]])\n\u001b[1;32m     10\u001b[0m \u001b[38;5;28;01mreturn\u001b[39;00m lst\n",
      "\u001b[0;31mIndexError\u001b[0m: list index out of range"
     ]
    }
   ],
   "source": [
    "from typing import List\n",
    "class Solution:\n",
    "    def groupAnagrams(self, strs: List[str]) -> List[List[str]]:\n",
    "        lst = []\n",
    "        for ch in range(len(strs)-1):\n",
    "            if sorted(strs[ch]) in sorted(lst):\n",
    "                lst.append([strs[ch],strs[ch+1]])\n",
    "            else:\n",
    "                lst[ch].append([strs[ch]])\n",
    "        return lst        \n",
    "        \n",
    "strs = [\"act\",\"pots\",\"tops\",\"cat\",\"stop\",\"hat\"]\n",
    "sol = Solution()\n",
    "print(sol.groupAnagrams(strs))"
   ]
  },
  {
   "cell_type": "code",
   "execution_count": 31,
   "id": "3c484f8b",
   "metadata": {},
   "outputs": [
    {
     "name": "stdout",
     "output_type": "stream",
     "text": [
      "['act', 'cat', 'hat', 'pots', 'stop', 'tops']\n"
     ]
    },
    {
     "ename": "IndexError",
     "evalue": "list index out of range",
     "output_type": "error",
     "traceback": [
      "\u001b[0;31m---------------------------------------------------------------------------\u001b[0m",
      "\u001b[0;31mIndexError\u001b[0m                                Traceback (most recent call last)",
      "Input \u001b[0;32mIn [31]\u001b[0m, in \u001b[0;36m<cell line: 5>\u001b[0;34m()\u001b[0m\n\u001b[1;32m      5\u001b[0m \u001b[38;5;28;01mfor\u001b[39;00m i \u001b[38;5;129;01min\u001b[39;00m \u001b[38;5;28mrange\u001b[39m(\u001b[38;5;28mlen\u001b[39m(strs)):\n\u001b[1;32m      6\u001b[0m     \u001b[38;5;28;01mif\u001b[39;00m \u001b[38;5;28msorted\u001b[39m(s) \u001b[38;5;241m==\u001b[39m \u001b[38;5;28msorted\u001b[39m(strs[i]):\n\u001b[0;32m----> 7\u001b[0m         \u001b[43mlst\u001b[49m\u001b[43m[\u001b[49m\u001b[38;5;241;43m0\u001b[39;49m\u001b[43m]\u001b[49m\u001b[38;5;241m.\u001b[39mextend([s])\n\u001b[1;32m      9\u001b[0m \u001b[38;5;28mprint\u001b[39m(lst)\n",
      "\u001b[0;31mIndexError\u001b[0m: list index out of range"
     ]
    }
   ],
   "source": [
    "strs = [\"act\",\"pots\",\"tops\",\"cat\",\"stop\",\"hat\"]\n",
    "print(sorted(strs))\n",
    "s = \"tac\"\n",
    "lst = []\n",
    "for i in range(len(strs)):\n",
    "    if sorted(s) == sorted(strs[i]):\n",
    "        lst[0].extend([s])\n",
    "        \n",
    "print(lst)"
   ]
  },
  {
   "cell_type": "code",
   "execution_count": 48,
   "id": "0f93dd32",
   "metadata": {},
   "outputs": [
    {
     "name": "stdout",
     "output_type": "stream",
     "text": [
      "[['hat'], ['act', 'cat'], ['pots', 'tops', 'stop']]\n"
     ]
    }
   ],
   "source": [
    "from typing import List\n",
    "\n",
    "class Solution:\n",
    "    def groupAnagrams(self, strs: List[str]) -> List[List[str]]:\n",
    "        dic = {}\n",
    "        for word in strs:\n",
    "            key = \"\".join(sorted(word))\n",
    "            \n",
    "            if key not in dic:\n",
    "                dic[key] = []\n",
    "            dic[key].append(word)\n",
    "        lst = list(dic.values())\n",
    "        lst.sort(key=len)\n",
    "        return lst\n",
    "\n",
    "\n",
    "strs = [\"act\",\"pots\",\"tops\",\"cat\",\"stop\",\"hat\"]\n",
    "sol = Solution()\n",
    "print(sol.groupAnagrams(strs))\n"
   ]
  },
  {
   "cell_type": "code",
   "execution_count": 38,
   "id": "b69b6aa0",
   "metadata": {},
   "outputs": [
    {
     "name": "stdout",
     "output_type": "stream",
     "text": [
      "[['hat'], ['act', 'cat'], ['pots', 'tops', 'stop']]\n"
     ]
    }
   ],
   "source": [
    "from typing import List\n",
    "\n",
    "class Solution:\n",
    "    def groupAnagrams(self, strs: List[str]) -> List[List[str]]:\n",
    "        groups = {}\n",
    "        for word in strs:\n",
    "            key = \"\".join(sorted(word))\n",
    "            \n",
    "            if key not in groups:\n",
    "                groups[key] = []\n",
    "            groups[key].append(word)\n",
    "        \n",
    "        s = list(groups.values())\n",
    "        s.sort(key=len)\n",
    "        return s\n",
    "\n",
    "\n",
    "strs = [\"act\",\"pots\",\"tops\",\"cat\",\"stop\",\"hat\"]\n",
    "sol = Solution()\n",
    "print(sol.groupAnagrams(strs))"
   ]
  },
  {
   "cell_type": "code",
   "execution_count": 92,
   "id": "70bcd8a6",
   "metadata": {},
   "outputs": [
    {
     "name": "stdout",
     "output_type": "stream",
     "text": [
      "[1, 3]\n"
     ]
    }
   ],
   "source": [
    "from typing import List\n",
    "class Solution:\n",
    "    def topKFrequent(self, nums: List[int], k: int) -> List[int]:\n",
    "        dic = {}\n",
    "        l = []\n",
    "        for v in nums:\n",
    "            key = v\n",
    "            if key not in dic:\n",
    "                dic[key] = []\n",
    "            dic[key].append(v)\n",
    "        lst = list(dic.values())\n",
    "        lst.sort(key = len)\n",
    "        \n",
    "        for i in range(k):\n",
    "            a = (len(lst)-1) - i\n",
    "            l.append(lst[a][0])\n",
    "        return l\n",
    "        \n",
    "nums = [1,1,1,1,1,1,2,2,2,2,3,3,3,3,3]\n",
    "k = 2\n",
    "sol = Solution()\n",
    "print(sol.topKFrequent(nums, k))"
   ]
  },
  {
   "cell_type": "code",
   "execution_count": 107,
   "id": "69d4cc3a",
   "metadata": {},
   "outputs": [
    {
     "name": "stdout",
     "output_type": "stream",
     "text": [
      "['we', 'say', ':', 'yes']\n"
     ]
    }
   ],
   "source": [
    "# Encode and Decode Strings\n",
    "from typing import List\n",
    "class Solution:\n",
    "\n",
    "    def encode(self, strs: List[str]) -> str:\n",
    "      lst = []\n",
    "      single_s = \"\"\n",
    "      for s in strs:\n",
    "        single_s += s\n",
    "      encode = single_s.encode('utf-8')\n",
    "      k =  self.decode(encode)\n",
    "      count = 0\n",
    "      for j in strs:\n",
    "          lst.append(k[ count : count+len(j)])\n",
    "          count+=len(j)\n",
    "      return lst\n",
    "\n",
    "    def decode(self, s: str) -> List[str]:\n",
    "      return s.decode('utf-8')\n",
    "\n",
    "strs = [\"we\",\"say\",\":\",\"yes\"]\n",
    "sol = Solution()\n",
    "print(sol.encode(strs))"
   ]
  },
  {
   "cell_type": "code",
   "execution_count": 169,
   "id": "292afad2",
   "metadata": {},
   "outputs": [
    {
     "name": "stdout",
     "output_type": "stream",
     "text": [
      "2#we3#are\n",
      "['we', 'are']\n"
     ]
    }
   ],
   "source": [
    "from typing import List\n",
    "import base64\n",
    "\n",
    "class Solution:\n",
    "\n",
    "    def encode(self, strs: List[str]) -> str:\n",
    "        res = \"\"\n",
    "        for w in strs:\n",
    "          res +=  str(len(w)) + \"#\" + w\n",
    "        return res\n",
    "\n",
    "    def decode(self, s: str) -> List[str]:\n",
    "        res = []\n",
    "        i = 0\n",
    "        while i < len(s):\n",
    "            j = i\n",
    "            while s[j] != \"#\":\n",
    "                j+=1\n",
    "            length = int(s[i:j])\n",
    "            res.append(s[j+1:j+1+length])\n",
    "            i = j + 1 + length\n",
    "        return res\n",
    "        \n",
    "strs = [\"we\", \"are\"]\n",
    "sol = Solution()\n",
    "encoded = sol.encode(strs)\n",
    "print(encoded)\n",
    "print(sol.decode(encoded))\n",
    "      "
   ]
  },
  {
   "cell_type": "code",
   "execution_count": null,
   "id": "58a20c5d",
   "metadata": {},
   "outputs": [
    {
     "name": "stdout",
     "output_type": "stream",
     "text": [
      "[48, 24, 12, 8]\n"
     ]
    }
   ],
   "source": [
    "# Products of Array Except Self\n",
    "from typing import List\n",
    "import math\n",
    "\n",
    "class Solution:\n",
    "    def productExceptSelf(self, nums: List[int]) -> List[int]:\n",
    "        lst = []\n",
    "        for i in range(len(nums)):\n",
    "            lst.append(math.prod(nums[:i] + nums[i+1:]))\n",
    "        return lst\n",
    "nums = [1,2,4,6]\n",
    "sol = Solution()\n",
    "sol.productExceptSelf(nums)"
   ]
  },
  {
   "cell_type": "code",
   "execution_count": null,
   "id": "c6ba3c5e",
   "metadata": {},
   "outputs": [
    {
     "name": "stdout",
     "output_type": "stream",
     "text": [
      "[1, 1, 2, 8]\n",
      "[48, 24, 12, 8]\n"
     ]
    }
   ],
   "source": [
    "# perfact\n",
    "from typing import List\n",
    "\n",
    "class Solution:\n",
    "    def productExceptSelf(self, nums: List[int]) -> List[int]:\n",
    "        n = len(nums)\n",
    "        out = [1]*n\n",
    "        prefix = 1\n",
    "        for i in range(n):\n",
    "            out[i] = prefix\n",
    "            prefix = prefix*nums[i]\n",
    "        print(out)\n",
    "        suffix = 1\n",
    "        for i in range(n-1, -1, -1):\n",
    "            out[i] = out[i] * suffix\n",
    "            suffix = suffix * nums[i]\n",
    "        return out\n",
    "\n",
    "nums = [1, 2, 4, 6]\n",
    "sol = Solution()\n",
    "print(sol.productExceptSelf(nums))  # [48, 24, 12, 8]"
   ]
  },
  {
   "cell_type": "code",
   "execution_count": 50,
   "id": "1b1ec218",
   "metadata": {},
   "outputs": [
    {
     "name": "stdout",
     "output_type": "stream",
     "text": [
      "[set(), set(), set(), set(), set(), set(), set(), set(), set()]\n",
      "[set(), set(), set(), set(), set(), set(), set(), set(), set()]\n",
      "[{'2', '1', '3'}, {'4', '5'}, {'3', '9', '8'}, {'6', '4', '5'}, {'5', '3', '8'}, {'6', '2', '7'}, {'2'}, {'4', '1', '9', '8'}, {'7', '9', '8'}]\n",
      "[{'4', '1', '7', '5'}, {'2', '9'}, {'8'}, {'4', '5', '8'}, {'2', '1', '3', '6', '8'}, {'9', '3'}, {'2'}, {'7'}, {'9', '3', '6', '4', '5', '8'}]\n",
      "True\n"
     ]
    }
   ],
   "source": [
    "from typing import List\n",
    "\n",
    "class Solution:\n",
    "    def isValidSudoku(self, board: List[List[str]]) -> bool:\n",
    "        rows = [set() for _ in range(9)]\n",
    "        cols = [set() for _ in range(9)]\n",
    "        boxes = [set() for _ in range(9)]\n",
    "        print(rows)\n",
    "        print(cols)\n",
    "\n",
    "        for i in range(9):\n",
    "            for j in range(9):\n",
    "                a = board[i][j]\n",
    "                if a != \".\":\n",
    "                    if a in rows[i] or a in cols[j] or a in boxes[(i // 3) * 3 + (j // 3)]:\n",
    "                        return False\n",
    "                    rows[i].add(a)\n",
    "                    cols[j].add(a)\n",
    "                    boxes[(i // 3) * 3 + (j // 3)].add(a)\n",
    "        print(rows)\n",
    "        print(cols)\n",
    "        return True\n",
    "\n",
    "\n",
    "board = [[\"1\",\"2\",\".\",\".\",\"3\",\".\",\".\",\".\",\".\"],\n",
    " [\"4\",\".\",\".\",\"5\",\".\",\".\",\".\",\".\",\".\"],\n",
    " [\".\",\"9\",\"8\",\".\",\".\",\".\",\".\",\".\",\"3\"],\n",
    " [\"5\",\".\",\".\",\".\",\"6\",\".\",\".\",\".\",\"4\"],\n",
    " [\".\",\".\",\".\",\"8\",\".\",\"3\",\".\",\".\",\"5\"],\n",
    " [\"7\",\".\",\".\",\".\",\"2\",\".\",\".\",\".\",\"6\"],\n",
    " [\".\",\".\",\".\",\".\",\".\",\".\",\"2\",\".\",\".\"],\n",
    " [\".\",\".\",\".\",\"4\",\"1\",\"9\",\".\",\".\",\"8\"],\n",
    " [\".\",\".\",\".\",\".\",\"8\",\".\",\".\",\"7\",\"9\"]]\n",
    "\n",
    "sol = Solution()\n",
    "print(sol.isValidSudoku(board))  # ✅ Output: True or False"
   ]
  },
  {
   "cell_type": "code",
   "execution_count": 49,
   "id": "294b7a3b",
   "metadata": {},
   "outputs": [
    {
     "name": "stdout",
     "output_type": "stream",
     "text": [
      "{1, 2, 3, 4, 45}\n"
     ]
    }
   ],
   "source": [
    "s = [1,2,3,4,45,3]\n",
    "s = set(s)\n",
    "print(s)\n"
   ]
  },
  {
   "cell_type": "code",
   "execution_count": null,
   "id": "610aee1d",
   "metadata": {},
   "outputs": [],
   "source": []
  }
 ],
 "metadata": {
  "kernelspec": {
   "display_name": "Python 3",
   "language": "python",
   "name": "python3"
  },
  "language_info": {
   "codemirror_mode": {
    "name": "ipython",
    "version": 3
   },
   "file_extension": ".py",
   "mimetype": "text/x-python",
   "name": "python",
   "nbconvert_exporter": "python",
   "pygments_lexer": "ipython3",
   "version": "3.10.4"
  }
 },
 "nbformat": 4,
 "nbformat_minor": 5
}
